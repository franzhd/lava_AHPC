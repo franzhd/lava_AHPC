{
 "cells": [
  {
   "cell_type": "code",
   "execution_count": 1,
   "metadata": {},
   "outputs": [],
   "source": [
    "import os, sys\n",
    "from pathlib import Path\n",
    "\n",
    "sys.path.append('../src')\n",
    "sys.path.append('../src/utils/')\n",
    "from spiking_dataloader import WISDM_spiking_dataloader, WisdmDatasetParser\n",
    "from inibitory_network.inibitory_network_h1_test import InibitoryLifNet\n",
    "from output_process import OutputProcess"
   ]
  },
  {
   "cell_type": "code",
   "execution_count": 2,
   "metadata": {},
   "outputs": [
    {
     "name": "stdout",
     "output_type": "stream",
     "text": [
      "(6,)\n",
      "(6,)\n",
      "ytrain shape (55404, 18)\n",
      "yval shape (18468, 18)\n",
      "ytest shape (18469, 18)\n",
      "num classes train dataset: 7 occurrences of each class:[3127 3044 3102 3047 3150 3087 2973]\n",
      "num classes eval dataset: 7 occurrences of each class:[1035 1048 1122  996 1110 1053 1007]\n",
      "num classes test dataset: 7 occurrences of each class:[1046 1048 1046 1036 1076 1026  982]\n"
     ]
    }
   ],
   "source": [
    "dataset = WisdmDatasetParser('../data/data_watch_subset_0_40.npz', norm=None, class_sublset='custom', subset_list=[0, 4, 6, 8, 9, 10, 14])"
   ]
  },
  {
   "cell_type": "code",
   "execution_count": 3,
   "metadata": {},
   "outputs": [],
   "source": [
    "num_samples = 100\n",
    "is_fixed = False"
   ]
  },
  {
   "cell_type": "code",
   "execution_count": 4,
   "metadata": {},
   "outputs": [],
   "source": [
    "#val_set = dataset.get_validation_set(shuffle=False, subset=num_samples)\n",
    "val_set = dataset.get_validation_set()\n",
    "val_set[0].shape\n",
    "num_samples = val_set[0].shape[0]"
   ]
  },
  {
   "cell_type": "markdown",
   "metadata": {},
   "source": []
  },
  {
   "cell_type": "code",
   "execution_count": 5,
   "metadata": {},
   "outputs": [],
   "source": [
    "spiking_loader = WISDM_spiking_dataloader(val_set ,clear_intervall=40)"
   ]
  },
  {
   "cell_type": "code",
   "execution_count": 6,
   "metadata": {},
   "outputs": [
    {
     "name": "stdout",
     "output_type": "stream",
     "text": [
      "leaky1 betas:0.6422713398933411\n",
      "leaky1 vth:1.6034977436065674\n",
      "leaky2 betas:0.1867157220840454\n",
      "leaky2 vth:0.8977742195129395\n",
      "recurrent betas:0.0\n",
      "recurrent vth:0.7044668197631836\n",
      "leaky3 betas:0.0\n",
      "leaky3 vth:0.8803743720054626\n"
     ]
    }
   ],
   "source": [
    "net = InibitoryLifNet(f\"{Path.home()}/snntorch_network/notebook/Trained/network_best.npz\", is_fixed=is_fixed)\n"
   ]
  },
  {
   "cell_type": "code",
   "execution_count": 7,
   "metadata": {},
   "outputs": [
    {
     "name": "stdout",
     "output_type": "stream",
     "text": [
      "###network weights###\n",
      "linear1_w: [[ 0.01785181 -0.02856008  0.02428017 -0.5063322   0.25566658 -0.23295736]\n",
      " [-0.1067793   0.12840496 -0.0287918  -0.3225523   0.53797895 -0.43913406]\n",
      " [-0.07939682 -0.05350543  0.02370893  0.01309202  0.01555006 -0.02604755]\n",
      " ...\n",
      " [ 0.05031947  0.02002306  0.10233375  0.14626272  0.08159123  0.007313  ]\n",
      " [-0.10044242  0.29082403 -0.07642527  0.05289702  0.26825768 -0.43984282]\n",
      " [-0.0350589   0.11559165 -0.10274251 -0.32917562  0.32394004  0.28862447]]\n",
      "linear2_w: [[ 0.18082134 -0.01966244  0.07137185 ... -0.04098366  0.06833572  0.02085055]\n",
      " [ 0.10025737 -0.08641492 -0.03791319 ... -0.01257913  0.02147631  0.05084423]\n",
      " [ 0.05788552 -0.08952484 -0.04185998 ...  0.02094941  0.0018082  -0.02334978]\n",
      " ...\n",
      " [-0.04137287  0.0017094   0.13737227 ...  0.08455733  0.03397838 -0.2366516 ]\n",
      " [ 0.1715753   0.08212121 -0.01064413 ...  0.0314768  -0.08438168 -0.09259132]\n",
      " [ 0.1911718  -0.09592617 -0.058932   ... -0.06258283 -0.12639815 -0.23494327]]\n",
      "linear3_w: [[ 0.09248905 -0.01084495 -0.02866212 ...  0.05590656  0.06327502  0.01154126]\n",
      " [-0.13661487 -0.07153279  0.03326738 ... -0.11262276 -0.2517541   0.03211121]\n",
      " [ 0.08031897 -0.10689716  0.07672996 ...  0.02287525  0.04816398 -0.18545645]\n",
      " ...\n",
      " [-0.2258564   0.01740695  0.04764576 ...  0.02667041  0.0321527   0.11700109]\n",
      " [-0.07380412  0.02212393  0.03450231 ...  0.0367039   0.11618977  0.00345762]\n",
      " [-0.00102665 -0.05817321  0.03212443 ... -0.11662664  0.09660389  0.05420665]]\n",
      "\n"
     ]
    }
   ],
   "source": [
    "net.print_weights()"
   ]
  },
  {
   "cell_type": "code",
   "execution_count": 8,
   "metadata": {},
   "outputs": [],
   "source": [
    "out_sink = OutputProcess(7,num_samples,80, 0)"
   ]
  },
  {
   "cell_type": "code",
   "execution_count": 9,
   "metadata": {},
   "outputs": [],
   "source": [
    "spiking_loader.data_out.connect(net.a_in)\n",
    "net.s_out.connect(out_sink.spikes_in)\n",
    "out_sink.label_in.connect_from(spiking_loader.label_out)"
   ]
  },
  {
   "cell_type": "code",
   "execution_count": 10,
   "metadata": {},
   "outputs": [
    {
     "name": "stderr",
     "output_type": "stream",
     "text": [
      "  0%|          | 0/7371 [00:00<?, ?it/s]"
     ]
    },
    {
     "name": "stdout",
     "output_type": "stream",
     "text": [
      "leaky1 dv:0.6422713398933411\n",
      "leaky1 du:1.0\n",
      "leaky1 vth:1.6034977436065674\n",
      "leaky2 dv:0.1867157220840454\n",
      "leaky2 du:1.0\n",
      "leaky2 vth:0.8977742195129395\n",
      "recurrent dv:0.0\n",
      "recurrent du:1.0\n",
      "leaky3 dv:0.0\n",
      "leaky3 du:1.0\n",
      "leaky3 vth:0.8803743720054626\n"
     ]
    },
    {
     "name": "stderr",
     "output_type": "stream",
     "text": [
      "/home/franzhd/lava/src/lava/magma/compiler/compiler_graphs.py:868: UserWarning: Cannot import module '<module 'dataloader' from '/home/franzhd/lava_AHPC/experiments/../src/utils/dataloader.py'>' when searching ProcessModels for Process 'OutputProcess'.\n",
      "  warnings.warn(\n",
      "/home/franzhd/lava/src/lava/magma/compiler/compiler_graphs.py:868: UserWarning: Cannot import module '<module 'dataloader' from '/home/franzhd/lava_AHPC/experiments/../src/utils/dataloader.py'>' when searching ProcessModels for Process 'WISDM_spiking_dataloader'.\n",
      "  warnings.warn(\n",
      "100%|██████████| 7371/7371 [14:54<00:00,  8.24it/s]"
     ]
    },
    {
     "name": "stdout",
     "output_type": "stream",
     "text": [
      "\n",
      "Ground truth: [2 5 4 ... 5 5 6]\n",
      "Predictions : [2 5 4 ... 5 5 6]\n",
      "Accuracy    : 87.87138787138787\n"
     ]
    },
    {
     "name": "stderr",
     "output_type": "stream",
     "text": [
      "\n"
     ]
    }
   ],
   "source": [
    "\n",
    "from lava.magma.core.run_conditions import RunSteps\n",
    "from lava.magma.core.run_configs import Loihi1SimCfg, Loihi2SimCfg\n",
    "import numpy as np\n",
    "from tqdm import tqdm\n",
    "\n",
    "for i in tqdm(range(num_samples)):\n",
    "        out_sink.run(condition=RunSteps(num_steps=80),\n",
    "                        run_cfg=Loihi1SimCfg(select_sub_proc_model=True,\n",
    "                        select_tag='floating_pt'))\n",
    "        net.reset_hidden_state()\n",
    "\n",
    "\n",
    "ground_truth = val_set[1][:num_samples]\n",
    "predictions = out_sink.pred_labels.get().astype(np.int32)\n",
    "\n",
    "# Stop the execution\n",
    "out_sink.stop()\n",
    "\n",
    "accuracy = np.sum(ground_truth==predictions)/ground_truth.size * 100\n",
    "\n",
    "print(f\"\\nGround truth: {ground_truth}\\n\"\n",
    "      f\"Predictions : {predictions}\\n\"\n",
    "      f\"Accuracy    : {accuracy}\")\n"
   ]
  }
 ],
 "metadata": {
  "kernelspec": {
   "display_name": "rwkv-lava",
   "language": "python",
   "name": "python3"
  },
  "language_info": {
   "codemirror_mode": {
    "name": "ipython",
    "version": 3
   },
   "file_extension": ".py",
   "mimetype": "text/x-python",
   "name": "python",
   "nbconvert_exporter": "python",
   "pygments_lexer": "ipython3",
   "version": "3.9.19"
  }
 },
 "nbformat": 4,
 "nbformat_minor": 2
}
